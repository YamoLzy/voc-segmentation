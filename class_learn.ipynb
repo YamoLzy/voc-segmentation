{
 "cells": [
  {
   "cell_type": "code",
   "execution_count": 1,
   "metadata": {},
   "outputs": [
    {
     "name": "stdout",
     "output_type": "stream",
     "text": [
      "Inside `__getitem__` method!\n",
      "32\n"
     ]
    }
   ],
   "source": [
    "class Person:\n",
    "    \n",
    "    def __init__(self,name,age):\n",
    "        self.name = name\n",
    "        self.age = age\n",
    "\n",
    "    def __getitem__(self,key):\n",
    "        print (\"Inside `__getitem__` method!\")\n",
    "        return getattr(self,key)\n",
    "\n",
    "p = Person(\"Subhayan\",32)\n",
    "print (p[\"age\"])"
   ]
  },
  {
   "cell_type": "code",
   "execution_count": 2,
   "metadata": {},
   "outputs": [
    {
     "name": "stdout",
     "output_type": "stream",
     "text": [
      "value0\n",
      "value1\n"
     ]
    }
   ],
   "source": [
    "class DictDemo:\n",
    "    \n",
    "      def __init__(self,key,value):\n",
    "            self.dict = {}\n",
    "            self.dict[key] = value\n",
    "            \n",
    "      def __getitem__(self,key):\n",
    "            return self.dict[key]\n",
    "        \n",
    "      def __setitem__(self,key,value):\n",
    "            self.dict[key] = value\n",
    "            \n",
    "dictDemo = DictDemo('key0','value0')\n",
    "print(dictDemo['key0']) #value0\n",
    "dictDemo['key1'] = 'value1'\n",
    "print(dictDemo['key1']) #value1"
   ]
  },
  {
   "cell_type": "code",
   "execution_count": null,
   "metadata": {},
   "outputs": [],
   "source": []
  }
 ],
 "metadata": {
  "kernelspec": {
   "display_name": "Python 3",
   "language": "python",
   "name": "python3"
  },
  "language_info": {
   "codemirror_mode": {
    "name": "ipython",
    "version": 3
   },
   "file_extension": ".py",
   "mimetype": "text/x-python",
   "name": "python",
   "nbconvert_exporter": "python",
   "pygments_lexer": "ipython3",
   "version": "3.7.6"
  }
 },
 "nbformat": 4,
 "nbformat_minor": 4
}
